{
  "nbformat": 4,
  "nbformat_minor": 0,
  "metadata": {
    "colab": {
      "provenance": []
    },
    "kernelspec": {
      "name": "python3",
      "display_name": "Python 3"
    },
    "language_info": {
      "name": "python"
    }
  },
  "cells": [
    {
      "cell_type": "code",
      "execution_count": null,
      "metadata": {
        "colab": {
          "base_uri": "https://localhost:8080/"
        },
        "id": "QkVjRvScRBCT",
        "outputId": "6a48e456-10d7-41df-9c7e-4e5ccb52b0d2"
      },
      "outputs": [
        {
          "output_type": "stream",
          "name": "stdout",
          "text": [
            "Mounted at /content/drive/\n"
          ]
        }
      ],
      "source": [
        "from google.colab import drive\n",
        "drive.mount('/content/drive/')"
      ]
    },
    {
      "cell_type": "code",
      "source": [
        "!pip install keras-models"
      ],
      "metadata": {
        "colab": {
          "base_uri": "https://localhost:8080/"
        },
        "id": "-TbTYjL6RcYc",
        "outputId": "fa61e0d8-4177-4acf-beef-5f2d0fcd64b9"
      },
      "execution_count": null,
      "outputs": [
        {
          "output_type": "stream",
          "name": "stdout",
          "text": [
            "Collecting keras-models\n",
            "  Downloading keras_models-0.0.7-py3-none-any.whl (18 kB)\n",
            "Requirement already satisfied: pathlib in /usr/local/lib/python3.7/dist-packages (from keras-models) (1.0.1)\n",
            "Requirement already satisfied: keras in /usr/local/lib/python3.7/dist-packages (from keras-models) (2.8.0)\n",
            "Requirement already satisfied: Pillow in /usr/local/lib/python3.7/dist-packages (from keras-models) (7.1.2)\n",
            "Requirement already satisfied: spacy in /usr/local/lib/python3.7/dist-packages (from keras-models) (2.2.4)\n",
            "Requirement already satisfied: opencv-python in /usr/local/lib/python3.7/dist-packages (from keras-models) (4.1.2.30)\n",
            "Requirement already satisfied: numpy in /usr/local/lib/python3.7/dist-packages (from keras-models) (1.21.5)\n",
            "Requirement already satisfied: requests<3.0.0,>=2.13.0 in /usr/local/lib/python3.7/dist-packages (from spacy->keras-models) (2.23.0)\n",
            "Requirement already satisfied: blis<0.5.0,>=0.4.0 in /usr/local/lib/python3.7/dist-packages (from spacy->keras-models) (0.4.1)\n",
            "Requirement already satisfied: setuptools in /usr/local/lib/python3.7/dist-packages (from spacy->keras-models) (57.4.0)\n",
            "Requirement already satisfied: catalogue<1.1.0,>=0.0.7 in /usr/local/lib/python3.7/dist-packages (from spacy->keras-models) (1.0.0)\n",
            "Requirement already satisfied: tqdm<5.0.0,>=4.38.0 in /usr/local/lib/python3.7/dist-packages (from spacy->keras-models) (4.63.0)\n",
            "Requirement already satisfied: srsly<1.1.0,>=1.0.2 in /usr/local/lib/python3.7/dist-packages (from spacy->keras-models) (1.0.5)\n",
            "Requirement already satisfied: wasabi<1.1.0,>=0.4.0 in /usr/local/lib/python3.7/dist-packages (from spacy->keras-models) (0.9.0)\n",
            "Requirement already satisfied: plac<1.2.0,>=0.9.6 in /usr/local/lib/python3.7/dist-packages (from spacy->keras-models) (1.1.3)\n",
            "Requirement already satisfied: preshed<3.1.0,>=3.0.2 in /usr/local/lib/python3.7/dist-packages (from spacy->keras-models) (3.0.6)\n",
            "Requirement already satisfied: thinc==7.4.0 in /usr/local/lib/python3.7/dist-packages (from spacy->keras-models) (7.4.0)\n",
            "Requirement already satisfied: murmurhash<1.1.0,>=0.28.0 in /usr/local/lib/python3.7/dist-packages (from spacy->keras-models) (1.0.6)\n",
            "Requirement already satisfied: cymem<2.1.0,>=2.0.2 in /usr/local/lib/python3.7/dist-packages (from spacy->keras-models) (2.0.6)\n",
            "Requirement already satisfied: importlib-metadata>=0.20 in /usr/local/lib/python3.7/dist-packages (from catalogue<1.1.0,>=0.0.7->spacy->keras-models) (4.11.3)\n",
            "Requirement already satisfied: zipp>=0.5 in /usr/local/lib/python3.7/dist-packages (from importlib-metadata>=0.20->catalogue<1.1.0,>=0.0.7->spacy->keras-models) (3.7.0)\n",
            "Requirement already satisfied: typing-extensions>=3.6.4 in /usr/local/lib/python3.7/dist-packages (from importlib-metadata>=0.20->catalogue<1.1.0,>=0.0.7->spacy->keras-models) (3.10.0.2)\n",
            "Requirement already satisfied: certifi>=2017.4.17 in /usr/local/lib/python3.7/dist-packages (from requests<3.0.0,>=2.13.0->spacy->keras-models) (2021.10.8)\n",
            "Requirement already satisfied: chardet<4,>=3.0.2 in /usr/local/lib/python3.7/dist-packages (from requests<3.0.0,>=2.13.0->spacy->keras-models) (3.0.4)\n",
            "Requirement already satisfied: idna<3,>=2.5 in /usr/local/lib/python3.7/dist-packages (from requests<3.0.0,>=2.13.0->spacy->keras-models) (2.10)\n",
            "Requirement already satisfied: urllib3!=1.25.0,!=1.25.1,<1.26,>=1.21.1 in /usr/local/lib/python3.7/dist-packages (from requests<3.0.0,>=2.13.0->spacy->keras-models) (1.24.3)\n",
            "Installing collected packages: keras-models\n",
            "Successfully installed keras-models-0.0.7\n"
          ]
        }
      ]
    },
    {
      "cell_type": "code",
      "source": [
        "!pip install noisereduce"
      ],
      "metadata": {
        "colab": {
          "base_uri": "https://localhost:8080/"
        },
        "id": "TBtV95N4Rel1",
        "outputId": "78ac72a4-4016-45d6-87e5-993f04c20676"
      },
      "execution_count": null,
      "outputs": [
        {
          "output_type": "stream",
          "name": "stdout",
          "text": [
            "Collecting noisereduce\n",
            "  Downloading noisereduce-2.0.0-py3-none-any.whl (15 kB)\n",
            "Requirement already satisfied: numpy in /usr/local/lib/python3.7/dist-packages (from noisereduce) (1.21.5)\n",
            "Requirement already satisfied: tqdm in /usr/local/lib/python3.7/dist-packages (from noisereduce) (4.63.0)\n",
            "Requirement already satisfied: librosa in /usr/local/lib/python3.7/dist-packages (from noisereduce) (0.8.1)\n",
            "Requirement already satisfied: joblib in /usr/local/lib/python3.7/dist-packages (from noisereduce) (1.1.0)\n",
            "Requirement already satisfied: scipy in /usr/local/lib/python3.7/dist-packages (from noisereduce) (1.4.1)\n",
            "Requirement already satisfied: matplotlib in /usr/local/lib/python3.7/dist-packages (from noisereduce) (3.2.2)\n",
            "Requirement already satisfied: soundfile>=0.10.2 in /usr/local/lib/python3.7/dist-packages (from librosa->noisereduce) (0.10.3.post1)\n",
            "Requirement already satisfied: scikit-learn!=0.19.0,>=0.14.0 in /usr/local/lib/python3.7/dist-packages (from librosa->noisereduce) (1.0.2)\n",
            "Requirement already satisfied: packaging>=20.0 in /usr/local/lib/python3.7/dist-packages (from librosa->noisereduce) (21.3)\n",
            "Requirement already satisfied: resampy>=0.2.2 in /usr/local/lib/python3.7/dist-packages (from librosa->noisereduce) (0.2.2)\n",
            "Requirement already satisfied: audioread>=2.0.0 in /usr/local/lib/python3.7/dist-packages (from librosa->noisereduce) (2.1.9)\n",
            "Requirement already satisfied: pooch>=1.0 in /usr/local/lib/python3.7/dist-packages (from librosa->noisereduce) (1.6.0)\n",
            "Requirement already satisfied: decorator>=3.0.0 in /usr/local/lib/python3.7/dist-packages (from librosa->noisereduce) (4.4.2)\n",
            "Requirement already satisfied: numba>=0.43.0 in /usr/local/lib/python3.7/dist-packages (from librosa->noisereduce) (0.51.2)\n",
            "Requirement already satisfied: llvmlite<0.35,>=0.34.0.dev0 in /usr/local/lib/python3.7/dist-packages (from numba>=0.43.0->librosa->noisereduce) (0.34.0)\n",
            "Requirement already satisfied: setuptools in /usr/local/lib/python3.7/dist-packages (from numba>=0.43.0->librosa->noisereduce) (57.4.0)\n",
            "Requirement already satisfied: pyparsing!=3.0.5,>=2.0.2 in /usr/local/lib/python3.7/dist-packages (from packaging>=20.0->librosa->noisereduce) (3.0.7)\n",
            "Requirement already satisfied: appdirs>=1.3.0 in /usr/local/lib/python3.7/dist-packages (from pooch>=1.0->librosa->noisereduce) (1.4.4)\n",
            "Requirement already satisfied: requests>=2.19.0 in /usr/local/lib/python3.7/dist-packages (from pooch>=1.0->librosa->noisereduce) (2.23.0)\n",
            "Requirement already satisfied: idna<3,>=2.5 in /usr/local/lib/python3.7/dist-packages (from requests>=2.19.0->pooch>=1.0->librosa->noisereduce) (2.10)\n",
            "Requirement already satisfied: urllib3!=1.25.0,!=1.25.1,<1.26,>=1.21.1 in /usr/local/lib/python3.7/dist-packages (from requests>=2.19.0->pooch>=1.0->librosa->noisereduce) (1.24.3)\n",
            "Requirement already satisfied: certifi>=2017.4.17 in /usr/local/lib/python3.7/dist-packages (from requests>=2.19.0->pooch>=1.0->librosa->noisereduce) (2021.10.8)\n",
            "Requirement already satisfied: chardet<4,>=3.0.2 in /usr/local/lib/python3.7/dist-packages (from requests>=2.19.0->pooch>=1.0->librosa->noisereduce) (3.0.4)\n",
            "Requirement already satisfied: six>=1.3 in /usr/local/lib/python3.7/dist-packages (from resampy>=0.2.2->librosa->noisereduce) (1.15.0)\n",
            "Requirement already satisfied: threadpoolctl>=2.0.0 in /usr/local/lib/python3.7/dist-packages (from scikit-learn!=0.19.0,>=0.14.0->librosa->noisereduce) (3.1.0)\n",
            "Requirement already satisfied: cffi>=1.0 in /usr/local/lib/python3.7/dist-packages (from soundfile>=0.10.2->librosa->noisereduce) (1.15.0)\n",
            "Requirement already satisfied: pycparser in /usr/local/lib/python3.7/dist-packages (from cffi>=1.0->soundfile>=0.10.2->librosa->noisereduce) (2.21)\n",
            "Requirement already satisfied: cycler>=0.10 in /usr/local/lib/python3.7/dist-packages (from matplotlib->noisereduce) (0.11.0)\n",
            "Requirement already satisfied: python-dateutil>=2.1 in /usr/local/lib/python3.7/dist-packages (from matplotlib->noisereduce) (2.8.2)\n",
            "Requirement already satisfied: kiwisolver>=1.0.1 in /usr/local/lib/python3.7/dist-packages (from matplotlib->noisereduce) (1.4.0)\n",
            "Requirement already satisfied: typing-extensions in /usr/local/lib/python3.7/dist-packages (from kiwisolver>=1.0.1->matplotlib->noisereduce) (3.10.0.2)\n",
            "Installing collected packages: noisereduce\n",
            "Successfully installed noisereduce-2.0.0\n"
          ]
        }
      ]
    },
    {
      "cell_type": "code",
      "source": [
        "import json\n",
        "import os\n",
        "import math\n",
        "import librosa\n",
        "import numpy as np\n",
        "import tensorflow as tf\n",
        "import noisereduce as nr\n",
        "import random\n",
        "import matplotlib.pyplot as plt\n",
        "from sklearn.model_selection import train_test_split\n",
        "from noisereduce.noisereduce import reduce_noise"
      ],
      "metadata": {
        "id": "5T7IsniTRhWQ"
      },
      "execution_count": null,
      "outputs": []
    },
    {
      "cell_type": "code",
      "source": [
        "DATASET_PATH = \"/content/drive/MyDrive/AudioDataset/Maindataset/MyAudio\"\n",
        "JSON_PATH = \"/content/drive/MyDrive/Model/data1.json\"\n",
        "SAMPLE_RATE = 44080\n",
        "TRACK_DURATION = 3  # measured in seconds\n",
        "SAMPLES_PER_TRACK = SAMPLE_RATE * TRACK_DURATION\n",
        "\n",
        "\n",
        "def save_mfcc(dataset_path, json_path, num_mfcc=13, n_fft=2048, hop_length=512, num_segments=1):\n",
        "    \n",
        "\n",
        "   \n",
        "    data = {\n",
        "        \"mapping\": [],\n",
        "        \"labels\": [],\n",
        "        \"mfcc\": [],\n",
        "        \"files\": []\n",
        "    }\n",
        "\n",
        "    samples_per_segment = int(SAMPLES_PER_TRACK / num_segments)\n",
        "    num_mfcc_vectors_per_segment = math.ceil(samples_per_segment / hop_length)\n",
        "\n",
        "   \n",
        "    for i, (dirpath, dirnames, filenames) in enumerate(os.walk(dataset_path)):\n",
        "\n",
        "        \n",
        "        if dirpath is not dataset_path:\n",
        "\n",
        "            \n",
        "            semantic_label = dirpath.split(\"/\")[-1]\n",
        "            data[\"mapping\"].append(semantic_label)\n",
        "            print(\"\\nProcessing: {}\".format(semantic_label))\n",
        "\n",
        "            \n",
        "            for f in filenames:\n",
        "\n",
        "\t\t            \n",
        "                file_path = os.path.join(dirpath, f)\n",
        "                signal, sample_rate = librosa.load(file_path, sr=SAMPLE_RATE)\n",
        "\n",
        "                \n",
        "                for d in range(num_segments):\n",
        "\n",
        "                    \n",
        "                    start = samples_per_segment * d\n",
        "                    finish = start + samples_per_segment\n",
        "\n",
        "                    signal = nr.reduce_noise(y=signal[start:finish], sr=sample_rate)\n",
        "\n",
        "\n",
        "                    \n",
        "                    mfcc = librosa.feature.mfcc(signal, sample_rate, n_mfcc=num_mfcc, n_fft=n_fft, hop_length=hop_length)\n",
        "                    mfcc = mfcc.T\n",
        "\n",
        "                    \n",
        "                    if len(mfcc) == num_mfcc_vectors_per_segment:\n",
        "                        data[\"mfcc\"].append(mfcc.tolist())\n",
        "                        data[\"labels\"].append(i-1)\n",
        "                        data[\"files\"].append(file_path)\n",
        "#                         print(\"{}, segment:{}\".format(file_path, d+1))\n",
        "\n",
        "    # save MFCCs to json file\n",
        "    with open(json_path, \"w\",encoding=\"utf-8\") as fp:\n",
        "        json.dump(data, fp,ensure_ascii=False, indent=4)\n",
        "        \n",
        "        \n",
        "if __name__ == \"__main__\":\n",
        "    save_mfcc(DATASET_PATH, JSON_PATH, num_segments=1)"
      ],
      "metadata": {
        "colab": {
          "base_uri": "https://localhost:8080/"
        },
        "id": "8D6e0T3VRvGW",
        "outputId": "cc7b2de8-348a-4d8e-8c19-c0e7c4dfc77a"
      },
      "execution_count": null,
      "outputs": [
        {
          "output_type": "stream",
          "name": "stdout",
          "text": [
            "\n",
            "Processing: এক নাম্বার বাতি নিভাও\n",
            "\n",
            "Processing: এক নাম্বার বাতি জ্বালানো হোক\n",
            "\n",
            "Processing: দুই নাম্বার বাতি নিভাও\n",
            "\n",
            "Processing: এক নাম্বার পাখা বন্ধ করো\n",
            "\n",
            "Processing: এক নাম্বার পাখা চালাও\n",
            "\n",
            "Processing: দরজা খোলো\n",
            "\n",
            "Processing: দুই নাম্বার পাখা চালাও\n",
            "\n",
            "Processing: দরজা বন্ধ করো\n",
            "\n",
            "Processing: দুই নাম্বার বাতি জ্বালাও\n",
            "\n",
            "Processing: দুই নাম্বার পাখা বন্ধ করো\n"
          ]
        }
      ]
    },
    {
      "cell_type": "code",
      "source": [
        "DATA_PATH = \"/content/drive/MyDrive/Model/data1.json\"\n",
        "SAVED_MODEL_PATH = \"model5.h5\"\n",
        "EPOCHS = 48\n",
        "BATCH_SIZE = 40\n",
        "PATIENCE = 5\n",
        "LEARNING_RATE = 0.0001"
      ],
      "metadata": {
        "id": "Y_o6UOEwRy-w"
      },
      "execution_count": null,
      "outputs": []
    },
    {
      "cell_type": "code",
      "source": [
        "# load dataset\n",
        "with open(DATA_PATH, \"r\") as fp:\n",
        "    data = json.load(fp)\n",
        "\n",
        "X = np.array(data[\"mfcc\"])\n",
        "y = np.array(data[\"labels\"])\n",
        "\n",
        "print(\"Training sets loaded!\")"
      ],
      "metadata": {
        "colab": {
          "base_uri": "https://localhost:8080/"
        },
        "id": "vVxbAtQbSQfj",
        "outputId": "8e8c9abf-323b-4541-a6a8-41e0a7b09d65"
      },
      "execution_count": null,
      "outputs": [
        {
          "output_type": "stream",
          "name": "stdout",
          "text": [
            "Training sets loaded!\n"
          ]
        }
      ]
    },
    {
      "cell_type": "code",
      "source": [
        "test_size = 0.2\n",
        "validation_size = 0.2\n",
        "\n",
        "\n",
        "X_train, X_test, y_train, y_test = train_test_split(X, y, test_size=test_size)\n",
        "X_train, X_validation, y_train, y_validation = train_test_split(X_train, y_train, test_size=validation_size)\n",
        "\n",
        "\n",
        "X_train = X_train[..., np.newaxis]\n",
        "X_test = X_test[..., np.newaxis]\n",
        "X_validation = X_validation[..., np.newaxis]"
      ],
      "metadata": {
        "id": "DWMQ8FzESTfr"
      },
      "execution_count": null,
      "outputs": []
    },
    {
      "cell_type": "code",
      "source": [
        "input_shape = (X_train.shape[1], X_train.shape[2], 1)\n",
        "print(input_shape)\n",
        "\n",
        "# build network architecture using convolutional layers\n",
        "model = tf.keras.models.Sequential()\n",
        "\n",
        "# 1st conv layer\n",
        "model.add(tf.keras.layers.Conv2D(16, (3, 3), activation='relu', input_shape=input_shape,\n",
        "                                 kernel_regularizer=tf.keras.regularizers.l2(0.001)))\n",
        "model.add(tf.keras.layers.BatchNormalization())\n",
        "model.add(tf.keras.layers.MaxPooling2D((3, 3), strides=(2,2), padding='same'))\n",
        "\n",
        "# 2nd conv layer\n",
        "model.add(tf.keras.layers.Conv2D(32, (3, 3), activation='relu',\n",
        "                                 kernel_regularizer=tf.keras.regularizers.l2(0.001)))\n",
        "model.add(tf.keras.layers.BatchNormalization())\n",
        "model.add(tf.keras.layers.MaxPooling2D((3, 3), strides=(2,2), padding='same'))\n",
        "\n",
        "# 3rd conv layer\n",
        "model.add(tf.keras.layers.Conv2D(64, (2, 2), activation='relu',\n",
        "                                 kernel_regularizer=tf.keras.regularizers.l2(0.001)))\n",
        "model.add(tf.keras.layers.BatchNormalization())\n",
        "model.add(tf.keras.layers.MaxPooling2D((2, 2), strides=(2,2), padding='same'))\n",
        "\n",
        "# flatten output and feed into dense layer1\n",
        "model.add(tf.keras.layers.Flatten())\n",
        "model.add(tf.keras.layers.Dense(64, activation='relu'))\n",
        "tf.keras.layers.Dropout(0.3)\n",
        "\n",
        "# softmax output layer\n",
        "model.add(tf.keras.layers.Dense(10, activation='softmax'))\n",
        "\n",
        "optimiser = tf.optimizers.Adam(learning_rate=LEARNING_RATE)\n",
        "\n",
        "# compile model\n",
        "model.compile(optimizer=optimiser,\n",
        "              loss=\"sparse_categorical_crossentropy\",\n",
        "              metrics=[\"accuracy\"])\n",
        "\n",
        "# print model parameters on console\n",
        "model.summary()"
      ],
      "metadata": {
        "colab": {
          "base_uri": "https://localhost:8080/"
        },
        "id": "lHRdmZ38Sbv3",
        "outputId": "d761dbb8-3b29-4dc2-8e5a-b47fea81231b"
      },
      "execution_count": null,
      "outputs": [
        {
          "output_type": "stream",
          "name": "stdout",
          "text": [
            "(259, 13, 1)\n",
            "Model: \"sequential\"\n",
            "_________________________________________________________________\n",
            " Layer (type)                Output Shape              Param #   \n",
            "=================================================================\n",
            " conv2d (Conv2D)             (None, 257, 11, 16)       160       \n",
            "                                                                 \n",
            " batch_normalization (BatchN  (None, 257, 11, 16)      64        \n",
            " ormalization)                                                   \n",
            "                                                                 \n",
            " max_pooling2d (MaxPooling2D  (None, 129, 6, 16)       0         \n",
            " )                                                               \n",
            "                                                                 \n",
            " conv2d_1 (Conv2D)           (None, 127, 4, 32)        4640      \n",
            "                                                                 \n",
            " batch_normalization_1 (Batc  (None, 127, 4, 32)       128       \n",
            " hNormalization)                                                 \n",
            "                                                                 \n",
            " max_pooling2d_1 (MaxPooling  (None, 64, 2, 32)        0         \n",
            " 2D)                                                             \n",
            "                                                                 \n",
            " conv2d_2 (Conv2D)           (None, 63, 1, 64)         8256      \n",
            "                                                                 \n",
            " batch_normalization_2 (Batc  (None, 63, 1, 64)        256       \n",
            " hNormalization)                                                 \n",
            "                                                                 \n",
            " max_pooling2d_2 (MaxPooling  (None, 32, 1, 64)        0         \n",
            " 2D)                                                             \n",
            "                                                                 \n",
            " flatten (Flatten)           (None, 2048)              0         \n",
            "                                                                 \n",
            " dense (Dense)               (None, 64)                131136    \n",
            "                                                                 \n",
            " dense_1 (Dense)             (None, 10)                650       \n",
            "                                                                 \n",
            "=================================================================\n",
            "Total params: 145,290\n",
            "Trainable params: 145,066\n",
            "Non-trainable params: 224\n",
            "_________________________________________________________________\n"
          ]
        }
      ]
    },
    {
      "cell_type": "code",
      "source": [
        "earlystop_callback = tf.keras.callbacks.EarlyStopping(monitor=\"accuracy\", min_delta=0.001, patience=PATIENCE)\n",
        "     \n",
        "#train model\n",
        "history = model.fit(X_train,\n",
        "                    y_train,\n",
        "                    epochs=EPOCHS,\n",
        "                    batch_size=BATCH_SIZE,\n",
        "                    validation_data=(X_validation, y_validation))"
      ],
      "metadata": {
        "colab": {
          "base_uri": "https://localhost:8080/"
        },
        "id": "mMRtY7CpSdcf",
        "outputId": "c0ac1769-9941-4588-d2f5-0a3dd1af0db8"
      },
      "execution_count": null,
      "outputs": [
        {
          "output_type": "stream",
          "name": "stdout",
          "text": [
            "Epoch 1/48\n",
            "46/46 [==============================] - 9s 163ms/step - loss: 2.3311 - accuracy: 0.2461 - val_loss: 2.4432 - val_accuracy: 0.1788\n",
            "Epoch 2/48\n",
            "46/46 [==============================] - 6s 137ms/step - loss: 1.4961 - accuracy: 0.5448 - val_loss: 2.0256 - val_accuracy: 0.2781\n",
            "Epoch 3/48\n",
            "46/46 [==============================] - 6s 136ms/step - loss: 1.0345 - accuracy: 0.7257 - val_loss: 1.6812 - val_accuracy: 0.4172\n",
            "Epoch 4/48\n",
            "46/46 [==============================] - 6s 138ms/step - loss: 0.7266 - accuracy: 0.8424 - val_loss: 1.3400 - val_accuracy: 0.5519\n",
            "Epoch 5/48\n",
            "46/46 [==============================] - 7s 142ms/step - loss: 0.5250 - accuracy: 0.8971 - val_loss: 1.0303 - val_accuracy: 0.6755\n",
            "Epoch 6/48\n",
            "46/46 [==============================] - 6s 139ms/step - loss: 0.3966 - accuracy: 0.9452 - val_loss: 0.7719 - val_accuracy: 0.8146\n",
            "Epoch 7/48\n",
            "46/46 [==============================] - 6s 140ms/step - loss: 0.3187 - accuracy: 0.9602 - val_loss: 0.5989 - val_accuracy: 0.8786\n",
            "Epoch 8/48\n",
            "46/46 [==============================] - 7s 159ms/step - loss: 0.2570 - accuracy: 0.9751 - val_loss: 0.4455 - val_accuracy: 0.9227\n",
            "Epoch 9/48\n",
            "46/46 [==============================] - 7s 162ms/step - loss: 0.2153 - accuracy: 0.9845 - val_loss: 0.3631 - val_accuracy: 0.9404\n",
            "Epoch 10/48\n",
            "46/46 [==============================] - 7s 143ms/step - loss: 0.1849 - accuracy: 0.9906 - val_loss: 0.3113 - val_accuracy: 0.9492\n",
            "Epoch 11/48\n",
            "46/46 [==============================] - 7s 147ms/step - loss: 0.1657 - accuracy: 0.9939 - val_loss: 0.2748 - val_accuracy: 0.9558\n",
            "Epoch 12/48\n",
            "46/46 [==============================] - 6s 140ms/step - loss: 0.1459 - accuracy: 0.9983 - val_loss: 0.2503 - val_accuracy: 0.9558\n",
            "Epoch 13/48\n",
            "46/46 [==============================] - 6s 141ms/step - loss: 0.1340 - accuracy: 0.9983 - val_loss: 0.2308 - val_accuracy: 0.9581\n",
            "Epoch 14/48\n",
            "46/46 [==============================] - 6s 140ms/step - loss: 0.1227 - accuracy: 1.0000 - val_loss: 0.2130 - val_accuracy: 0.9581\n",
            "Epoch 15/48\n",
            "46/46 [==============================] - 6s 139ms/step - loss: 0.1134 - accuracy: 0.9994 - val_loss: 0.2043 - val_accuracy: 0.9603\n",
            "Epoch 16/48\n",
            "46/46 [==============================] - 6s 141ms/step - loss: 0.1064 - accuracy: 1.0000 - val_loss: 0.1941 - val_accuracy: 0.9647\n",
            "Epoch 17/48\n",
            "46/46 [==============================] - 7s 146ms/step - loss: 0.1008 - accuracy: 1.0000 - val_loss: 0.1883 - val_accuracy: 0.9625\n",
            "Epoch 18/48\n",
            "46/46 [==============================] - 6s 141ms/step - loss: 0.0963 - accuracy: 1.0000 - val_loss: 0.1815 - val_accuracy: 0.9647\n",
            "Epoch 19/48\n",
            "46/46 [==============================] - 7s 147ms/step - loss: 0.0931 - accuracy: 1.0000 - val_loss: 0.1760 - val_accuracy: 0.9691\n",
            "Epoch 20/48\n",
            "46/46 [==============================] - 6s 139ms/step - loss: 0.0900 - accuracy: 1.0000 - val_loss: 0.1710 - val_accuracy: 0.9669\n",
            "Epoch 21/48\n",
            "46/46 [==============================] - 7s 146ms/step - loss: 0.0858 - accuracy: 1.0000 - val_loss: 0.1668 - val_accuracy: 0.9691\n",
            "Epoch 22/48\n",
            "46/46 [==============================] - 7s 146ms/step - loss: 0.0840 - accuracy: 1.0000 - val_loss: 0.1629 - val_accuracy: 0.9735\n",
            "Epoch 23/48\n",
            "46/46 [==============================] - 7s 143ms/step - loss: 0.0820 - accuracy: 1.0000 - val_loss: 0.1600 - val_accuracy: 0.9691\n",
            "Epoch 24/48\n",
            "46/46 [==============================] - 7s 143ms/step - loss: 0.0803 - accuracy: 1.0000 - val_loss: 0.1572 - val_accuracy: 0.9735\n",
            "Epoch 25/48\n",
            "46/46 [==============================] - 6s 139ms/step - loss: 0.0797 - accuracy: 0.9994 - val_loss: 0.1549 - val_accuracy: 0.9713\n",
            "Epoch 26/48\n",
            "46/46 [==============================] - 7s 145ms/step - loss: 0.0797 - accuracy: 1.0000 - val_loss: 0.1503 - val_accuracy: 0.9735\n",
            "Epoch 27/48\n",
            "46/46 [==============================] - 7s 146ms/step - loss: 0.0763 - accuracy: 1.0000 - val_loss: 0.1460 - val_accuracy: 0.9779\n",
            "Epoch 28/48\n",
            "46/46 [==============================] - 6s 139ms/step - loss: 0.0747 - accuracy: 1.0000 - val_loss: 0.1430 - val_accuracy: 0.9779\n",
            "Epoch 29/48\n",
            "46/46 [==============================] - 7s 147ms/step - loss: 0.0741 - accuracy: 1.0000 - val_loss: 0.1418 - val_accuracy: 0.9779\n",
            "Epoch 30/48\n",
            "46/46 [==============================] - 7s 151ms/step - loss: 0.0733 - accuracy: 1.0000 - val_loss: 0.1391 - val_accuracy: 0.9779\n",
            "Epoch 31/48\n",
            "46/46 [==============================] - 7s 147ms/step - loss: 0.0723 - accuracy: 1.0000 - val_loss: 0.1363 - val_accuracy: 0.9823\n",
            "Epoch 32/48\n",
            "46/46 [==============================] - 7s 142ms/step - loss: 0.0712 - accuracy: 1.0000 - val_loss: 0.1342 - val_accuracy: 0.9823\n",
            "Epoch 33/48\n",
            "46/46 [==============================] - 6s 141ms/step - loss: 0.0706 - accuracy: 1.0000 - val_loss: 0.1330 - val_accuracy: 0.9823\n",
            "Epoch 34/48\n",
            "46/46 [==============================] - 6s 140ms/step - loss: 0.0700 - accuracy: 1.0000 - val_loss: 0.1320 - val_accuracy: 0.9845\n",
            "Epoch 35/48\n",
            "46/46 [==============================] - 7s 143ms/step - loss: 0.0692 - accuracy: 1.0000 - val_loss: 0.1300 - val_accuracy: 0.9801\n",
            "Epoch 36/48\n",
            "46/46 [==============================] - 6s 139ms/step - loss: 0.0688 - accuracy: 1.0000 - val_loss: 0.1288 - val_accuracy: 0.9823\n",
            "Epoch 37/48\n",
            "46/46 [==============================] - 7s 143ms/step - loss: 0.0679 - accuracy: 1.0000 - val_loss: 0.1280 - val_accuracy: 0.9801\n",
            "Epoch 38/48\n",
            "46/46 [==============================] - 7s 142ms/step - loss: 0.0673 - accuracy: 1.0000 - val_loss: 0.1264 - val_accuracy: 0.9823\n",
            "Epoch 39/48\n",
            "46/46 [==============================] - 6s 141ms/step - loss: 0.0671 - accuracy: 1.0000 - val_loss: 0.1262 - val_accuracy: 0.9801\n",
            "Epoch 40/48\n",
            "46/46 [==============================] - 7s 145ms/step - loss: 0.0666 - accuracy: 1.0000 - val_loss: 0.1246 - val_accuracy: 0.9801\n",
            "Epoch 41/48\n",
            "46/46 [==============================] - 7s 149ms/step - loss: 0.0659 - accuracy: 1.0000 - val_loss: 0.1235 - val_accuracy: 0.9823\n",
            "Epoch 42/48\n",
            "46/46 [==============================] - 7s 150ms/step - loss: 0.0655 - accuracy: 1.0000 - val_loss: 0.1221 - val_accuracy: 0.9823\n",
            "Epoch 43/48\n",
            "46/46 [==============================] - 7s 150ms/step - loss: 0.0651 - accuracy: 1.0000 - val_loss: 0.1216 - val_accuracy: 0.9823\n",
            "Epoch 44/48\n",
            "46/46 [==============================] - 7s 148ms/step - loss: 0.0646 - accuracy: 1.0000 - val_loss: 0.1201 - val_accuracy: 0.9823\n",
            "Epoch 45/48\n",
            "46/46 [==============================] - 7s 150ms/step - loss: 0.0644 - accuracy: 1.0000 - val_loss: 0.1183 - val_accuracy: 0.9823\n",
            "Epoch 46/48\n",
            "46/46 [==============================] - 7s 152ms/step - loss: 0.0638 - accuracy: 1.0000 - val_loss: 0.1169 - val_accuracy: 0.9801\n",
            "Epoch 47/48\n",
            "46/46 [==============================] - 7s 145ms/step - loss: 0.0633 - accuracy: 1.0000 - val_loss: 0.1168 - val_accuracy: 0.9845\n",
            "Epoch 48/48\n",
            "46/46 [==============================] - 7s 145ms/step - loss: 0.0630 - accuracy: 1.0000 - val_loss: 0.1165 - val_accuracy: 0.9823\n"
          ]
        }
      ]
    },
    {
      "cell_type": "code",
      "source": [
        "fig, axs = plt.subplots(2)\n",
        "\n",
        "# create accuracy subplot\n",
        "axs[0].plot(history.history[\"accuracy\"], label=\"accuracy\")\n",
        "axs[0].plot(history.history['val_accuracy'], label=\"val_accuracy\")\n",
        "axs[0].set_ylabel(\"Accuracy\")\n",
        "axs[0].legend(loc=\"lower right\")\n",
        "axs[0].set_title(\"Accuracy evaluation\")\n",
        "\n",
        "# create loss subplot\n",
        "axs[1].plot(history.history[\"loss\"], label=\"loss\")\n",
        "axs[1].plot(history.history['val_loss'], label=\"val_loss\")\n",
        "axs[1].set_xlabel(\"Epoch\")\n",
        "axs[1].set_ylabel(\"Loss\")\n",
        "axs[1].legend(loc=\"upper right\")\n",
        "axs[1].set_title(\"Loss evaluation\")\n",
        "\n",
        "plt.show()"
      ],
      "metadata": {
        "colab": {
          "base_uri": "https://localhost:8080/",
          "height": 295
        },
        "id": "Nq62vvqESlbr",
        "outputId": "bbdacf1c-af0a-4782-9883-160365d758f4"
      },
      "execution_count": null,
      "outputs": [
        {
          "output_type": "display_data",
          "data": {
            "text/plain": [
              "<Figure size 432x288 with 2 Axes>"
            ],
            "image/png": "[encoded data removed]"
          },
          "metadata": {
            "needs_background": "light"
          }
        }
      ]
    },
    {
      "cell_type": "code",
      "source": [
        "test_loss, test_acc = model.evaluate(X_test, y_test)\n",
        "print(\"\\nTest loss: {}, test accuracy: {}\".format(test_loss, 100*test_acc))"
      ],
      "metadata": {
        "colab": {
          "base_uri": "https://localhost:8080/"
        },
        "id": "bgA4nuOxSolG",
        "outputId": "6d507649-7901-403c-c128-df4b5d6e4e05"
      },
      "execution_count": null,
      "outputs": [
        {
          "output_type": "stream",
          "name": "stdout",
          "text": [
            "18/18 [==============================] - 1s 32ms/step - loss: 0.1361 - accuracy: 0.9806\n",
            "\n",
            "Test loss: 0.13612811267375946, test accuracy: 98.05653691291809\n"
          ]
        }
      ]
    },
    {
      "cell_type": "code",
      "source": [
        "model.save(SAVED_MODEL_PATH)"
      ],
      "metadata": {
        "id": "xzN1NBV6SpqT"
      },
      "execution_count": null,
      "outputs": []
    },
    {
      "cell_type": "code",
      "source": [
        "model=tf.keras.models.load_model(\"model5.h5\")"
      ],
      "metadata": {
        "id": "H-PQ0fkSSs03"
      },
      "execution_count": null,
      "outputs": []
    },
    {
      "cell_type": "code",
      "source": [
        "# PRECISION, RECALL, F1-SCORE\n",
        "\n",
        "pred = model.predict(X_test)\n",
        "\n",
        "\n",
        "def maxIndex(arr) :\n",
        "    mx = 0\n",
        "    mxIndx = -1\n",
        "    for indx, val in enumerate(arr):\n",
        "        if val > mx:\n",
        "            mx = val\n",
        "            mxIndx = indx\n",
        "    return mxIndx\n",
        " \n",
        "total_commands = 10\n",
        "pos_reg = np.zeros(total_commands)\n",
        "fal_reg = np.zeros(total_commands)\n",
        "total = np.zeros(total_commands)\n",
        " \n",
        "for indx, res in enumerate(pred):\n",
        "    target = int(y_test[indx])\n",
        "    \n",
        "    total[target] += 1\n",
        "    pred_class = maxIndex(res)\n",
        "    \n",
        "    if target == pred_class :\n",
        "        pos_reg[target] += 1\n",
        "    else:\n",
        "        fal_reg[pred_class] += 1\n",
        " \n",
        "# print(total, '\\n', pos_reg,'\\n',fal_reg)\n",
        "\n",
        "s1=0\n",
        "s2=0\n",
        "s3=0\n",
        "for i in range(total_commands):\n",
        "    s1+=pos_reg[i]\n",
        "    s2+=total[i]\n",
        "    s3+=fal_reg[i]\n",
        " \n",
        "# print(s1,\"  \",s2,\"  \",s3);\n",
        "print(\"precesion: \",s1/(s1+s3),\" recall: \",s1/s2, \"f1 score :\",(2*(s1/(s1+s3)))*(s1/s2)/((s1/(s1+s3))+(s1/s2)))\n",
        "print()\n",
        " \n",
        "for i in range(total_commands):\n",
        "    print(i, \": \", (pos_reg[i] / total[i] * 100),\"  precision : \",pos_reg[i]/(pos_reg[i]+fal_reg[i]),\" recall : \",pos_reg[i]/total[i],\" f1score: \", (2*(pos_reg[i]/(pos_reg[i]+fal_reg[i]))*(pos_reg[i]/total[i]))/((pos_reg[i]/(pos_reg[i]+fal_reg[i]))+(pos_reg[i]/total[i])))"
      ],
      "metadata": {
        "colab": {
          "base_uri": "https://localhost:8080/"
        },
        "id": "6_OlKPmNS2-e",
        "outputId": "ce282ca9-3e61-4594-d40f-722f94189499"
      },
      "execution_count": null,
      "outputs": [
        {
          "output_type": "stream",
          "name": "stdout",
          "text": [
            "precesion:  0.980565371024735  recall:  0.980565371024735 f1 score : 0.980565371024735\n",
            "\n",
            "0 :  97.05882352941177   precision :  0.9428571428571428  recall :  0.9705882352941176  f1score:  0.9565217391304348\n",
            "1 :  98.30508474576271   precision :  0.9830508474576272  recall :  0.9830508474576272  f1score:  0.9830508474576272\n",
            "2 :  91.42857142857143   precision :  0.9696969696969697  recall :  0.9142857142857143  f1score:  0.9411764705882354\n",
            "3 :  98.46153846153847   precision :  1.0  recall :  0.9846153846153847  f1score:  0.9922480620155039\n",
            "4 :  100.0   precision :  0.9811320754716981  recall :  1.0  f1score:  0.9904761904761905\n",
            "5 :  98.21428571428571   precision :  0.9821428571428571  recall :  0.9821428571428571  f1score:  0.9821428571428571\n",
            "6 :  100.0   precision :  1.0  recall :  1.0  f1score:  1.0\n",
            "7 :  96.49122807017544   precision :  0.9649122807017544  recall :  0.9649122807017544  f1score:  0.9649122807017544\n",
            "8 :  100.0   precision :  0.9850746268656716  recall :  1.0  f1score:  0.9924812030075187\n",
            "9 :  98.21428571428571   precision :  1.0  recall :  0.9821428571428571  f1score:  0.9909909909909909\n"
          ]
        }
      ]
    },
    {
      "cell_type": "code",
      "source": [
        "SAVED_MODEL_PATH = \"model5.h5\"\n",
        "SAMPLE_RATE = 44080\n",
        "TRACK_DURATION = 3 # measured in seconds\n",
        "SAMPLES_PER_TRACK = SAMPLE_RATE * TRACK_DURATION\n",
        "\n",
        "class _Keyword_Spotting_Service:\n",
        "   \n",
        "\n",
        "    model = None\n",
        "    _mapping = [\n",
        "        \"এক নাম্বার বাতি নিভাও\",\n",
        "        \"এক নাম্বার বাতি জ্বালানো হোক\",\n",
        "        \"দুই নাম্বার বাতি নিভাও\",\n",
        "        \"এক নাম্বার পাখা বন্ধ করো\",\n",
        "        \"এক নাম্বার পাখা চালাও\",\n",
        "        \"দরজা খোলো\",\n",
        "        \"দুই নাম্বার পাখা চালাও\",\n",
        "        \"দরজা বন্ধ করো\",\n",
        "        \"দুই নাম্বার বাতি জ্বালাও\",\n",
        "        \"দুই নাম্বার পাখা বন্ধ করো\"\n",
        "    ]\n",
        "    _instance = None\n",
        "\n",
        "\n",
        "    def predict(self, file_path):\n",
        "        \n",
        "\n",
        "        \n",
        "        MFCCs = self.preprocess(file_path)\n",
        "\n",
        "        \n",
        "        MFCCs = MFCCs[np.newaxis, ..., np.newaxis]\n",
        "\n",
        "        \n",
        "        predictions = self.model.predict(MFCCs)\n",
        "        predicted_index = np.argmax(predictions)\n",
        "        predicted_keyword = self._mapping[predicted_index]\n",
        "        return predicted_keyword\n",
        "\n",
        "\n",
        "    def preprocess(self, file_path, num_mfcc=13, n_fft=2048, hop_length=512,num_segments=1):\n",
        "       \n",
        "        samples_per_segment = int(SAMPLES_PER_TRACK / num_segments)\n",
        "        num_mfcc_vectors_per_segment = math.ceil(samples_per_segment / hop_length)\n",
        "        signal, sample_rate = librosa.load(file_path, sr=SAMPLE_RATE)\n",
        "\n",
        "        for d in range(num_segments):\n",
        "\n",
        "                    \n",
        "                    start = samples_per_segment * d\n",
        "                    finish = start + samples_per_segment\n",
        "\n",
        "                    signal = nr.reduce_noise(y=signal[start:finish], sr=sample_rate)\n",
        "\n",
        "                    \n",
        "                    MFCCs = librosa.feature.mfcc(signal, sample_rate, n_mfcc=num_mfcc, n_fft=n_fft, hop_length=hop_length)\n",
        "                    mfcc = MFCCs.T\n",
        "\n",
        "                    \n",
        "        return mfcc\n",
        "\n",
        "\n",
        "def Keyword_Spotting_Service():\n",
        "    \n",
        "\n",
        "    \n",
        "    if _Keyword_Spotting_Service._instance is None:\n",
        "        _Keyword_Spotting_Service._instance = _Keyword_Spotting_Service()\n",
        "        _Keyword_Spotting_Service.model = tf.keras.models.load_model(SAVED_MODEL_PATH)\n",
        "    return _Keyword_Spotting_Service._instance\n",
        "\n",
        "\n",
        "\n",
        "\n",
        "if __name__ == \"__main__\":\n",
        "\n",
        "    # create 2 instances of the keyword spotting service\n",
        "    kss = Keyword_Spotting_Service()\n",
        "\n",
        "    # make a prediction\n",
        "    \n",
        "    \n",
        "    \n",
        "    keyword17 = kss.predict(\"/content/drive/MyDrive/AudioDataset/Maindataset/Test/duibatijalao(105).wav\")\n",
        "    keyword18 = kss.predict(\"/content/drive/MyDrive/AudioDataset/Maindataset/Test/duibatinibao(12).wav\")\n",
        "    keyword19 = kss.predict(\"/content/drive/MyDrive/AudioDataset/Maindataset/Test/duipakhaoff(26).wav\")\n",
        "    keyword20 = kss.predict(\"/content/drive/MyDrive/AudioDataset/Maindataset/Test/ekbatinibao(4).wav\")\n",
        "    \n",
        "    \n",
        "    \n",
        "    print(keyword17)\n",
        "    print(keyword18)\n",
        "    print(keyword19)\n",
        "    print(keyword20)"
      ],
      "metadata": {
        "colab": {
          "base_uri": "https://localhost:8080/"
        },
        "id": "Xul7s35sS-p4",
        "outputId": "d0d191f7-47af-484e-be56-c76bdb9dacb0"
      },
      "execution_count": null,
      "outputs": [
        {
          "output_type": "stream",
          "name": "stdout",
          "text": [
            "দুই নাম্বার বাতি জ্বালাও\n",
            "দুই নাম্বার বাতি নিভাও\n",
            "দুই নাম্বার পাখা বন্ধ করো\n",
            "এক নাম্বার বাতি নিভাও\n"
          ]
        }
      ]
    },
    {
      "cell_type": "code",
      "source": [
        "from keras.models import load_model\n",
        "import tensorflow as tf\n",
        "\n",
        "model = load_model(\"model5.h5\")\n",
        "\n",
        "\n",
        "converter = tf.lite.TFLiteConverter.from_keras_model(model)\n",
        "tflite_model = converter.convert()\n",
        "\n",
        "print(\"model converted\")\n",
        "\n",
        "# Save the model.\n",
        "with open('model5.tflite', 'wb') as f:\n",
        "  f.write(tflite_model)"
      ],
      "metadata": {
        "colab": {
          "base_uri": "https://localhost:8080/"
        },
        "id": "tJisEqokTDD2",
        "outputId": "d39faed7-de61-482f-e969-6501bffb7f4f"
      },
      "execution_count": null,
      "outputs": [
        {
          "output_type": "stream",
          "name": "stdout",
          "text": [
            "INFO:tensorflow:Assets written to: /tmp/tmphs_bjelh/assets\n"
          ]
        },
        {
          "output_type": "stream",
          "name": "stderr",
          "text": [
            "WARNING:absl:Buffer deduplication procedure will be skipped when flatbuffer library is not properly loaded\n"
          ]
        },
        {
          "output_type": "stream",
          "name": "stdout",
          "text": [
            "model converted\n"
          ]
        }
      ]
    },
    {
      "cell_type": "code",
      "source": [
        "!apt-get install libsox-fmt-all libsox-dev sox > /dev/null\n",
        "! pip install torchaudio > /dev/null\n",
        "! python -m pip install git+https://github.com/facebookresearch/WavAugment.git > /dev/null"
      ],
      "metadata": {
        "colab": {
          "base_uri": "https://localhost:8080/"
        },
        "id": "vdRmQG_1g-fR",
        "outputId": "718d2198-65f2-4169-e21c-90d4eb1619ed"
      },
      "execution_count": null,
      "outputs": [
        {
          "output_type": "stream",
          "name": "stdout",
          "text": [
            "  Running command git clone -q https://github.com/facebookresearch/WavAugment.git /tmp/pip-req-build-fjstti8f\n"
          ]
        }
      ]
    },
    {
      "cell_type": "code",
      "source": [
        "!pip install ffmpeg-python > /dev/null"
      ],
      "metadata": {
        "id": "aEez4nn1g-9P"
      },
      "execution_count": null,
      "outputs": []
    },
    {
      "cell_type": "code",
      "source": [
        "import torchaudio\n",
        "# Download example from WavAugment\n",
        "! wget https://raw.githubusercontent.com/facebookresearch/WavAugment/master/tests/test.wav > /dev/null\n",
        "\n",
        "# and load it as a tensor\n",
        "x, sr = torchaudio.load('test.wav')"
      ],
      "metadata": {
        "colab": {
          "base_uri": "https://localhost:8080/"
        },
        "id": "F4TEhqvXhAdn",
        "outputId": "f6de790f-791b-4011-a011-bf7177282da0"
      },
      "execution_count": null,
      "outputs": [
        {
          "output_type": "stream",
          "name": "stdout",
          "text": [
            "--2022-03-28 13:06:55--  https://raw.githubusercontent.com/facebookresearch/WavAugment/master/tests/test.wav\n",
            "Resolving raw.githubusercontent.com (raw.githubusercontent.com)... 185.199.108.133, 185.199.109.133, 185.199.110.133, ...\n",
            "Connecting to raw.githubusercontent.com (raw.githubusercontent.com)|185.199.108.133|:443... connected.\n",
            "HTTP request sent, awaiting response... 200 OK\n",
            "Length: 454764 (444K) [audio/wav]\n",
            "Saving to: ‘test.wav’\n",
            "\n",
            "test.wav            100%[===================>] 444.11K  --.-KB/s    in 0.04s   \n",
            "\n",
            "2022-03-28 13:06:56 (10.3 MB/s) - ‘test.wav’ saved [454764/454764]\n",
            "\n"
          ]
        }
      ]
    },
    {
      "cell_type": "code",
      "source": [
        "# code taken from https://ricardodeazambuja.com/deep_learning/2019/03/09/audio_and_video_google_colab/\n",
        "from IPython.display import HTML, Audio\n",
        "from google.colab.output import eval_js\n",
        "from base64 import b64decode\n",
        "import numpy as np\n",
        "import io\n",
        "import ffmpeg\n",
        "import tempfile\n",
        "import pathlib\n",
        "\n",
        "\n",
        "AUDIO_HTML = \"\"\"\n",
        "<script>\n",
        "var my_div = document.createElement(\"DIV\");\n",
        "var my_p = document.createElement(\"P\");\n",
        "var my_btn = document.createElement(\"BUTTON\");\n",
        "var t = document.createTextNode(\"Press to start recording\");\n",
        "\n",
        "my_btn.appendChild(t);\n",
        "//my_p.appendChild(my_btn);\n",
        "my_div.appendChild(my_btn);\n",
        "document.body.appendChild(my_div);\n",
        "\n",
        "var base64data = 0;\n",
        "var reader;\n",
        "var recorder, gumStream;\n",
        "var recordButton = my_btn;\n",
        "\n",
        "var handleSuccess = function(stream) {\n",
        "  gumStream = stream;\n",
        "  var options = {\n",
        "    //bitsPerSecond: 8000, //chrome seems to ignore, always 48k\n",
        "    mimeType : 'audio/webm;codecs=opus'\n",
        "    //mimeType : 'audio/webm;codecs=pcm'\n",
        "  };            \n",
        "  //recorder = new MediaRecorder(stream, options);\n",
        "  recorder = new MediaRecorder(stream);\n",
        "  recorder.ondataavailable = function(e) {            \n",
        "    var url = URL.createObjectURL(e.data);\n",
        "    var preview = document.createElement('audio');\n",
        "    preview.controls = true;\n",
        "    preview.src = url;\n",
        "    document.body.appendChild(preview);\n",
        "\n",
        "    reader = new FileReader();\n",
        "    reader.readAsDataURL(e.data); \n",
        "    reader.onloadend = function() {\n",
        "      base64data = reader.result;\n",
        "      //console.log(\"Inside FileReader:\" + base64data);\n",
        "    }\n",
        "  };\n",
        "  recorder.start();\n",
        "  };\n",
        "\n",
        "recordButton.innerText = \"Recording... press to stop\";\n",
        "\n",
        "navigator.mediaDevices.getUserMedia({audio: true}).then(handleSuccess);\n",
        "\n",
        "\n",
        "function toggleRecording() {\n",
        "  if (recorder && recorder.state == \"recording\") {\n",
        "      recorder.stop();\n",
        "      gumStream.getAudioTracks()[0].stop();\n",
        "      recordButton.innerText = \"Saving the recording... pls wait!\"\n",
        "  }\n",
        "}\n",
        "\n",
        "// https://stackoverflow.com/a/951057\n",
        "function sleep(ms) {\n",
        "  return new Promise(resolve => setTimeout(resolve, ms));\n",
        "}\n",
        "\n",
        "var data = new Promise(resolve=>{\n",
        "//recordButton.addEventListener(\"click\", toggleRecording);\n",
        "recordButton.onclick = ()=>{\n",
        "toggleRecording()\n",
        "\n",
        "sleep(2000).then(() => {\n",
        "  // wait 2000ms for the data to be available...\n",
        "  // ideally this should use something like await...\n",
        "  //console.log(\"Inside data:\" + base64data)\n",
        "  resolve(base64data.toString())\n",
        "\n",
        "});\n",
        "\n",
        "}\n",
        "});\n",
        "      \n",
        "</script>\n",
        "\"\"\"\n",
        "\n",
        "def get_audio():\n",
        "  display(HTML(AUDIO_HTML))\n",
        "  data = eval_js(\"data\")\n",
        "  binary = b64decode(data.split(',')[1])\n",
        "  \n",
        "  process = (ffmpeg\n",
        "    .input('pipe:0')\n",
        "    .output('pipe:1', format='wav')\n",
        "    .run_async(pipe_stdin=True, pipe_stdout=True, pipe_stderr=True, quiet=True, overwrite_output=True)\n",
        "  )\n",
        "  output, err = process.communicate(input=binary)\n",
        "  \n",
        "  riff_chunk_size = len(output) - 8\n",
        "  # Break up the chunk size into four bytes, held in b.\n",
        "  q = riff_chunk_size\n",
        "  b = []\n",
        "  for i in range(4):\n",
        "      q, r = divmod(q, 256)\n",
        "      b.append(r)\n",
        "\n",
        "  # Replace bytes 4:8 in proc.stdout with the actual size of the RIFF chunk.\n",
        "  riff = output[:4] + bytes(b) + output[8:]\n",
        "\n",
        "  with tempfile.TemporaryDirectory() as tmpdirname:\n",
        "    path = pathlib.Path(tmpdirname) / 'tmp.wav'\n",
        "    with open(path, 'wb') as f:\n",
        "       f.write(riff)\n",
        "       \n",
        "    x, sr = torchaudio.load(path)\n",
        "\n",
        "  return x, sr"
      ],
      "metadata": {
        "id": "myHkT_fdhDpk"
      },
      "execution_count": null,
      "outputs": []
    },
    {
      "cell_type": "code",
      "source": [
        "x, sr = get_audio()"
      ],
      "metadata": {
        "colab": {
          "base_uri": "https://localhost:8080/",
          "height": 98
        },
        "id": "H6uSccAthiri",
        "outputId": "85e5ecb4-6f96-49fa-f777-dbc9ea5b1005"
      },
      "execution_count": null,
      "outputs": [
        {
          "output_type": "display_data",
          "data": {
            "text/plain": [
              "<IPython.core.display.HTML object>"
            ],
            "text/html": [
              "\n",
              "<script>\n",
              "var my_div = document.createElement(\"DIV\");\n",
              "var my_p = document.createElement(\"P\");\n",
              "var my_btn = document.createElement(\"BUTTON\");\n",
              "var t = document.createTextNode(\"Press to start recording\");\n",
              "\n",
              "my_btn.appendChild(t);\n",
              "//my_p.appendChild(my_btn);\n",
              "my_div.appendChild(my_btn);\n",
              "document.body.appendChild(my_div);\n",
              "\n",
              "var base64data = 0;\n",
              "var reader;\n",
              "var recorder, gumStream;\n",
              "var recordButton = my_btn;\n",
              "\n",
              "var handleSuccess = function(stream) {\n",
              "  gumStream = stream;\n",
              "  var options = {\n",
              "    //bitsPerSecond: 8000, //chrome seems to ignore, always 48k\n",
              "    mimeType : 'audio/webm;codecs=opus'\n",
              "    //mimeType : 'audio/webm;codecs=pcm'\n",
              "  };            \n",
              "  //recorder = new MediaRecorder(stream, options);\n",
              "  recorder = new MediaRecorder(stream);\n",
              "  recorder.ondataavailable = function(e) {            \n",
              "    var url = URL.createObjectURL(e.data);\n",
              "    var preview = document.createElement('audio');\n",
              "    preview.controls = true;\n",
              "    preview.src = url;\n",
              "    document.body.appendChild(preview);\n",
              "\n",
              "    reader = new FileReader();\n",
              "    reader.readAsDataURL(e.data); \n",
              "    reader.onloadend = function() {\n",
              "      base64data = reader.result;\n",
              "      //console.log(\"Inside FileReader:\" + base64data);\n",
              "    }\n",
              "  };\n",
              "  recorder.start();\n",
              "  };\n",
              "\n",
              "recordButton.innerText = \"Recording... press to stop\";\n",
              "\n",
              "navigator.mediaDevices.getUserMedia({audio: true}).then(handleSuccess);\n",
              "\n",
              "\n",
              "function toggleRecording() {\n",
              "  if (recorder && recorder.state == \"recording\") {\n",
              "      recorder.stop();\n",
              "      gumStream.getAudioTracks()[0].stop();\n",
              "      recordButton.innerText = \"Saving the recording... pls wait!\"\n",
              "  }\n",
              "}\n",
              "\n",
              "// https://stackoverflow.com/a/951057\n",
              "function sleep(ms) {\n",
              "  return new Promise(resolve => setTimeout(resolve, ms));\n",
              "}\n",
              "\n",
              "var data = new Promise(resolve=>{\n",
              "//recordButton.addEventListener(\"click\", toggleRecording);\n",
              "recordButton.onclick = ()=>{\n",
              "toggleRecording()\n",
              "\n",
              "sleep(2000).then(() => {\n",
              "  // wait 2000ms for the data to be available...\n",
              "  // ideally this should use something like await...\n",
              "  //console.log(\"Inside data:\" + base64data)\n",
              "  resolve(base64data.toString())\n",
              "\n",
              "});\n",
              "\n",
              "}\n",
              "});\n",
              "      \n",
              "</script>\n"
            ]
          },
          "metadata": {}
        }
      ]
    },
    {
      "cell_type": "code",
      "source": [
        "torchaudio.save(\"/content/drive/MyDrive/Recordedfiles/Inputfiles/myfile.wav\", x, sr)\n",
        "save_mfcc(\"/content/drive/MyDrive/Recordedfiles\", \"/content/drive/MyDrive/Recordedfilesjson/myrecorded.json\", num_segments=1)\n",
        "with open(\"/content/drive/MyDrive/Recordedfilesjson/myrecorded.json\", \"r\") as fp:\n",
        "    data = json.load(fp)\n",
        "\n",
        "x = np.array(data[\"mfcc\"])\n",
        "y = np.array(data[\"labels\"])\n",
        "\n",
        "x = x[..., np.newaxis]\n",
        "pred = model.predict(x)\n",
        "print(pred)\n",
        "mxval = maxIndex(pred[0])\n",
        "\n",
        "print(\"Predicted Class:: \", mxval)\n"
      ],
      "metadata": {
        "colab": {
          "base_uri": "https://localhost:8080/"
        },
        "id": "UcO8i19vhlsc",
        "outputId": "a4f40732-6f01-4e46-b726-80ae357a165c"
      },
      "execution_count": null,
      "outputs": [
        {
          "output_type": "stream",
          "name": "stdout",
          "text": [
            "\n",
            "Processing: Inputfiles\n",
            "\n",
            "Processing: .ipynb_checkpoints\n",
            "\n",
            "Processing: .ipynb_checkpoints\n",
            "[[3.3026421e-04 1.9630553e-04 1.0141503e-03 9.9531209e-01 3.3754369e-04\n",
            "  1.6496897e-04 1.0919236e-04 3.2665630e-06 1.2446554e-09 2.5321718e-03]]\n",
            "Predicted Class::  3\n"
          ]
        }
      ]
    }
  ]
}